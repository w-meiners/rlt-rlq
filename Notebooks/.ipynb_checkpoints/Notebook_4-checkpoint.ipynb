{
 "cells": [
  {
   "cell_type": "markdown",
   "metadata": {},
   "source": [
    "# Raumluftqualität 4.0"
   ]
  },
  {
   "cell_type": "markdown",
   "metadata": {},
   "source": [
    "In belüfteten Räumen ändert sich die Schadstoffkonzentration nach der Funktion\n",
    "\n",
    "$$\n",
    "  k(t) = k_\\infty + (k_0-k_\\infty)\\,{\\rm e}^{-\\beta\\,(t-t_0)}\n",
    "$$"
   ]
  },
  {
   "cell_type": "markdown",
   "metadata": {},
   "source": [
    "Wird in diese Formel für $t$ der Wert $t_0$ eingesetzt, so ergibt sich\n",
    "\n",
    "$$\n",
    "  k(t_0) = k_\\infty + (k_0-k_\\infty)\\,\\underbrace{{\\rm e}^{-\\beta\\,(t-t_0)}}_{=\\,1} = k_0\n",
    "$$"
   ]
  },
  {
   "cell_type": "markdown",
   "metadata": {},
   "source": [
    "Weiter ergibt sich für sehr große Werte von $t$ (und schließlich für $t\\to\\infty$):\n",
    "\n",
    "$$\n",
    "  k(t) \\to k_\\infty + (k_0-k_\\infty)\\,\\underbrace{{\\rm e}^{-\\beta\\,(t-t_0)}}_{=\\,0} = k_\\infty\n",
    "$$"
   ]
  },
  {
   "cell_type": "markdown",
   "metadata": {},
   "source": [
    "Der Wert der Funktion $k(t)$ ändert sich also vom Ausgangswert $k_0$ auf den Endwert $k_\\infty$. Dieser Wert wird theoretisch nie erreicht. Praktisch ist schon nach relativ kurzer Zeit kaum noch ein Unterschied zwischen $k(t)$ und $k_\\infty$ festzustellen. Deshalb wird der Wert $k_\\infty$ so bestimmt, dass er mit der zulässigen Schadstoffkonzentration im Raum zusammenfällt.\n",
    "\n",
    "Dieser Wert ergab sich aus der Formel\n",
    "\n",
    "$$\n",
    "  k_{\\rm zul} = k_\\infty = k_{au} + \\dfrac{\\dot V_{\\rm sch}}{\\dot V_\\rm{au}}\n",
    "  \\quad\\text{oder}\\quad\n",
    "  \\dot V_\\rm{au} = \\dfrac{\\dot V_\\rm{sch}}{k_\\rm{zul} - k_\\rm{au}}\n",
    "$$"
   ]
  },
  {
   "cell_type": "markdown",
   "metadata": {},
   "source": [
    "## Beispiel 1"
   ]
  },
  {
   "cell_type": "markdown",
   "metadata": {},
   "source": [
    "Ein Raum hat eine Grundfläche von $35\\,\\rm{m}^2$ bei einer Geschosshöhe von $2.50\\,{\\rm m}$. Im Raum werden $50\\,\\rm\\dfrac{\\ell}{h}$ CO_2 freigesetzt. Die CO_2-Konzentration der Außenluft ist 400 ppM. Im Raum sollen 1000 ppM nicht überschritten werden.\n",
    "\n",
    "- Berechnen Sie den erforderlichen Außenluftvolumenstrom.\n",
    "- Stellen Sie den zeitlichen Verlauf der CO_2-Konzentration in einem Diagramm dar."
   ]
  },
  {
   "cell_type": "markdown",
   "metadata": {},
   "source": [
    "### Lösung"
   ]
  },
  {
   "cell_type": "markdown",
   "metadata": {},
   "source": [
    "Das Raumvolumen ergibt sich zu $V_\\rm{ra}= 87.5\\,\\rm{m}^3$. Damit ergibt sich der Außenluftvolumenstrom zu\n",
    "\n",
    "$$\n",
    "  \\dot V_\\rm{au} = \\dfrac{\\dot V_\\rm{sch}}{k_\\rm{zul}-k_\\rm{au}}\n",
    "  = \\dfrac{50\\cdot 10^{-3}\\,\\rm{m}^3}{(1000-400)\\cdot 10^{-6}\\,\\rm{h}}\n",
    "  = 83.3\\,\\rm\\dfrac{m^3}{h}\n",
    "$$\n",
    "\n",
    "oder:"
   ]
  },
  {
   "cell_type": "code",
   "execution_count": 1,
   "metadata": {},
   "outputs": [],
   "source": [
    "from matplotlib import pyplot as plt, ticker as tk\n",
    "%matplotlib inline\n",
    "%config InlineBackend.figure_format='retina'\n",
    "\n",
    "import numpy as np\n",
    "import pandas as pd"
   ]
  },
  {
   "cell_type": "code",
   "execution_count": 2,
   "metadata": {},
   "outputs": [
    {
     "data": {
      "text/plain": [
       "87.5"
      ]
     },
     "execution_count": 2,
     "metadata": {},
     "output_type": "execute_result"
    }
   ],
   "source": [
    "# Das Raumvolumen\n",
    "V_ra = 35*2.5 # m**3\n",
    "V_ra"
   ]
  },
  {
   "cell_type": "code",
   "execution_count": 3,
   "metadata": {},
   "outputs": [
    {
     "data": {
      "text/plain": [
       "83.33333333333333"
      ]
     },
     "execution_count": 3,
     "metadata": {},
     "output_type": "execute_result"
    }
   ],
   "source": [
    "# Der erforderliche Außenluftvolumenstrom\n",
    "k_au = 400e-6\n",
    "k_zul = 1000e-6\n",
    "\n",
    "dV_sch = 50e-3 # m**3/h\n",
    "\n",
    "dV_au = dV_sch/(k_zul-k_au) # m**3/h\n",
    "dV_au"
   ]
  },
  {
   "cell_type": "markdown",
   "metadata": {},
   "source": [
    "Die Luftwechselzahl ist \n",
    "\n",
    "$$\n",
    "  \\beta = \\dfrac{\\dot V_\\rm{au}}{V_\\rm{ra}} \\approx 0.95 \\rm\\dfrac{1}{h}\n",
    "$$"
   ]
  },
  {
   "cell_type": "code",
   "execution_count": 4,
   "metadata": {},
   "outputs": [
    {
     "data": {
      "text/plain": [
       "0.9523809523809523"
      ]
     },
     "execution_count": 4,
     "metadata": {},
     "output_type": "execute_result"
    }
   ],
   "source": [
    "# Die Luftwechselzahl\n",
    "beta = dV_au/V_ra\n",
    "beta"
   ]
  },
  {
   "cell_type": "markdown",
   "metadata": {},
   "source": [
    "Damit ergibt sich der folgende Verlauf der Schadstoffkonzentration:"
   ]
  },
  {
   "cell_type": "code",
   "execution_count": 5,
   "metadata": {},
   "outputs": [
    {
     "data": {
      "text/html": [
       "<div>\n",
       "<style scoped>\n",
       "    .dataframe tbody tr th:only-of-type {\n",
       "        vertical-align: middle;\n",
       "    }\n",
       "\n",
       "    .dataframe tbody tr th {\n",
       "        vertical-align: top;\n",
       "    }\n",
       "\n",
       "    .dataframe thead th {\n",
       "        text-align: right;\n",
       "    }\n",
       "</style>\n",
       "<table border=\"1\" class=\"dataframe\">\n",
       "  <thead>\n",
       "    <tr style=\"text-align: right;\">\n",
       "      <th></th>\n",
       "      <th>0</th>\n",
       "      <th>1</th>\n",
       "      <th>2</th>\n",
       "      <th>3</th>\n",
       "      <th>4</th>\n",
       "    </tr>\n",
       "  </thead>\n",
       "  <tbody>\n",
       "    <tr>\n",
       "      <th>t</th>\n",
       "      <td>0.0</td>\n",
       "      <td>0.107143</td>\n",
       "      <td>0.214286</td>\n",
       "      <td>0.321429</td>\n",
       "      <td>0.428571</td>\n",
       "    </tr>\n",
       "    <tr>\n",
       "      <th>k</th>\n",
       "      <td>400.0</td>\n",
       "      <td>458.204384</td>\n",
       "      <td>510.762517</td>\n",
       "      <td>558.222127</td>\n",
       "      <td>601.077808</td>\n",
       "    </tr>\n",
       "  </tbody>\n",
       "</table>\n",
       "</div>"
      ],
      "text/plain": [
       "       0           1           2           3           4\n",
       "t    0.0    0.107143    0.214286    0.321429    0.428571\n",
       "k  400.0  458.204384  510.762517  558.222127  601.077808"
      ]
     },
     "execution_count": 5,
     "metadata": {},
     "output_type": "execute_result"
    }
   ],
   "source": [
    "# Das Zeitintervall\n",
    "lt = np.linspace(0,5/beta) # fünf Zeitkonstanten\n",
    "\n",
    "# Der Dataframe\n",
    "df = pd.DataFrame(\n",
    "    {\n",
    "        't': lt,\n",
    "        'k': 1e6*(k_zul + (k_au-k_zul)*np.exp(-beta*lt))\n",
    "    }\n",
    ")\n",
    "df.head().T"
   ]
  },
  {
   "cell_type": "code",
   "execution_count": 6,
   "metadata": {},
   "outputs": [
    {
     "data": {
      "image/png": "[encoded data removed]",
      "text/plain": [
       "<Figure size 432x288 with 1 Axes>"
      ]
     },
     "metadata": {
      "image/png": {
       "height": 265,
       "width": 397
      },
      "needs_background": "light"
     },
     "output_type": "display_data"
    }
   ],
   "source": [
    "ax = df.plot(x='t',y='k',label='$k=k(t)$')\n",
    "ax.axhline(1e6*k_zul,c='r')\n",
    "\n",
    "ax.grid()\n",
    "\n",
    "ax.set(\n",
    "    xlim=(0,5/beta), xlabel='Zeit $t$ in Stunden',\n",
    "    ylim=(0,1200), ylabel='Schadstoffkonzentration $k$ in ppM'\n",
    ");"
   ]
  },
  {
   "cell_type": "markdown",
   "metadata": {},
   "source": [
    "Bei korrekter Belüftung stellt sich nach einiger Zeit ein Gleichgewicht zwischen dem freigesetzten CO_2 und dem abtransportierten CO_2 ein, so dass sich die CO_2-Konzentration nicht mehr ändert."
   ]
  },
  {
   "cell_type": "markdown",
   "metadata": {},
   "source": [
    "## Beispiel 2"
   ]
  },
  {
   "cell_type": "markdown",
   "metadata": {},
   "source": [
    "In einem schlecht gelüfteten Raum ist die CO_2-Konzentration auf 2000 ppM angewachsen. \n",
    "\n",
    "Weiter ist $\\dot V_\\rm{sch}=60\\rm\\dfrac{\\ell}{h}$ bei $V_\\rm{ra}=40\\,\\rm{m}^3$, sowie $k_\\rm{au} = 400\\,\\rm{ppM}$ und $k_\\rm{zul} = 1000\\,\\rm{ppM}$.\n",
    "\n",
    "Mit welchem Außenluftvolumenstrom muss der Raum belüftet werden?"
   ]
  },
  {
   "cell_type": "markdown",
   "metadata": {},
   "source": [
    "#### Lösung\n",
    "\n",
    "Man berechnet\n",
    "\n",
    "$$\n",
    "  \\dot V_\\rm{au} = \\dfrac{\\dot V_\\rm{sch}}{k_\\rm{zul}-k_\\rm{au}} = 100\\,\\rm\\dfrac{m^3}{h}\n",
    "$$"
   ]
  },
  {
   "cell_type": "code",
   "execution_count": 7,
   "metadata": {},
   "outputs": [
    {
     "data": {
      "text/plain": [
       "99.99999999999999"
      ]
     },
     "execution_count": 7,
     "metadata": {},
     "output_type": "execute_result"
    }
   ],
   "source": [
    "# Der Schadstoffvolumenstrom\n",
    "dV_sch = 60e-3 # m**3/h\n",
    "\n",
    "# Das Raumvolumen\n",
    "V_ra = 50 # m**3\n",
    "\n",
    "# Die CO_2-Konzentrationen\n",
    "k_au = 400e-6\n",
    "k_zul = 1000e-6\n",
    "k_0 = 2000e-6\n",
    "\n",
    "# Der Außenluftvolumenstrom\n",
    "dV_au = dV_sch/(k_zul-k_au)\n",
    "dV_au"
   ]
  },
  {
   "cell_type": "markdown",
   "metadata": {},
   "source": [
    "Damit ist die Luftwechselzahl\n",
    "\n",
    "$$\n",
    "  \\beta = \\dfrac{\\dot V_\\rm{au}}{V_\\rm{ra}} = 2\\,\\rm\\dfrac{1}{h}\n",
    "$$"
   ]
  },
  {
   "cell_type": "code",
   "execution_count": 8,
   "metadata": {},
   "outputs": [
    {
     "data": {
      "text/plain": [
       "1.9999999999999998"
      ]
     },
     "execution_count": 8,
     "metadata": {},
     "output_type": "execute_result"
    }
   ],
   "source": [
    "# Die Luftwechselzahl des Raumes\n",
    "beta = dV_au/V_ra # 1/h\n",
    "beta"
   ]
  },
  {
   "cell_type": "markdown",
   "metadata": {},
   "source": [
    "Damit ergibt sich der folgende Verlauf der CO_2-Konzentration:"
   ]
  },
  {
   "cell_type": "code",
   "execution_count": 9,
   "metadata": {},
   "outputs": [
    {
     "data": {
      "text/html": [
       "<div>\n",
       "<style scoped>\n",
       "    .dataframe tbody tr th:only-of-type {\n",
       "        vertical-align: middle;\n",
       "    }\n",
       "\n",
       "    .dataframe tbody tr th {\n",
       "        vertical-align: top;\n",
       "    }\n",
       "\n",
       "    .dataframe thead th {\n",
       "        text-align: right;\n",
       "    }\n",
       "</style>\n",
       "<table border=\"1\" class=\"dataframe\">\n",
       "  <thead>\n",
       "    <tr style=\"text-align: right;\">\n",
       "      <th></th>\n",
       "      <th>0</th>\n",
       "      <th>1</th>\n",
       "      <th>2</th>\n",
       "      <th>3</th>\n",
       "      <th>4</th>\n",
       "    </tr>\n",
       "  </thead>\n",
       "  <tbody>\n",
       "    <tr>\n",
       "      <th>t</th>\n",
       "      <td>0.0</td>\n",
       "      <td>0.051020</td>\n",
       "      <td>0.102041</td>\n",
       "      <td>0.153061</td>\n",
       "      <td>0.204082</td>\n",
       "    </tr>\n",
       "    <tr>\n",
       "      <th>k</th>\n",
       "      <td>2000.0</td>\n",
       "      <td>1902.992694</td>\n",
       "      <td>1815.395806</td>\n",
       "      <td>1736.296455</td>\n",
       "      <td>1664.870320</td>\n",
       "    </tr>\n",
       "  </tbody>\n",
       "</table>\n",
       "</div>"
      ],
      "text/plain": [
       "        0            1            2            3            4\n",
       "t     0.0     0.051020     0.102041     0.153061     0.204082\n",
       "k  2000.0  1902.992694  1815.395806  1736.296455  1664.870320"
      ]
     },
     "execution_count": 9,
     "metadata": {},
     "output_type": "execute_result"
    }
   ],
   "source": [
    "# Das Zeitintervall\n",
    "lt = np.linspace(0,5/beta) # fünf Zeitkonstanten\n",
    "\n",
    "# Der Dataframe\n",
    "df = pd.DataFrame(\n",
    "    {\n",
    "        't': lt,\n",
    "        'k': 1e6*(k_zul + (k_0-k_zul)*np.exp(-beta*lt)) # in ppM\n",
    "    }\n",
    ")\n",
    "\n",
    "df.head().T"
   ]
  },
  {
   "cell_type": "code",
   "execution_count": 10,
   "metadata": {},
   "outputs": [
    {
     "data": {
      "image/png": "[encoded data removed]",
      "text/plain": [
       "<Figure size 432x288 with 1 Axes>"
      ]
     },
     "metadata": {
      "image/png": {
       "height": 265,
       "width": 405
      },
      "needs_background": "light"
     },
     "output_type": "display_data"
    }
   ],
   "source": [
    "ax = df.plot(x='t',y='k',label='$k=k(t)$')\n",
    "ax.axhline(1e6*k_zul,c='r')\n",
    "\n",
    "ax.set(\n",
    "    xlim=(0,5/beta),xlabel='Zeit $t$ in Stunden',\n",
    "    ylim=(0,2000),ylabel='Schadstoffkonzentration $k$ in ppM'\n",
    ");"
   ]
  },
  {
   "cell_type": "markdown",
   "metadata": {},
   "source": [
    "Wird der Raum mit dem erforderlichen Außenluftvolumenstrom belüftet, so verbessert sich die schlechte Luftqualität und es stellt sich schließlich die zulässige Schadstoffkonzentration im Raum ein."
   ]
  },
  {
   "cell_type": "markdown",
   "metadata": {},
   "source": [
    "## Beispiel 3"
   ]
  },
  {
   "cell_type": "markdown",
   "metadata": {},
   "source": [
    "Ein Wohnzimmer von $35\\,\\rm m^2$ Grundfläche wird mit $50\\,\\rm\\dfrac{m^3}{h}$ Außenluft belüftet.\n",
    "\n",
    "Abends versammeln sich die Eltern und die vier Kinder im Wohnzimmer zum Fernsehen. Dabei geben sie $120\\,\\rm\\dfrac{\\ell}{h}$ CO_2 ab. Wie ist die zeitliche Entwicklung der CO_2-Konzentration im Raum?"
   ]
  },
  {
   "cell_type": "markdown",
   "metadata": {},
   "source": [
    "#### Lösung\n",
    "\n",
    "Bei einer -üblichen- Geschosshöhe von $2.50\\,\\rm m$ ist $V_\\rm{ra} = 87.5\\,\\rm m^3$. Damit ergibt sich\n",
    "\n",
    "$$\n",
    "  \\beta = \\dfrac{\\dot V_\\rm{au}}{V_\\rm{ra}} = 0.57\\,\\rm\\dfrac{1}{h}\n",
    "$$\n",
    "\n",
    "Die Schadstoffkonzentration ergibt den folgenden Verlauf:"
   ]
  },
  {
   "cell_type": "code",
   "execution_count": 11,
   "metadata": {},
   "outputs": [
    {
     "data": {
      "text/plain": [
       "87.5"
      ]
     },
     "execution_count": 11,
     "metadata": {},
     "output_type": "execute_result"
    }
   ],
   "source": [
    "# Das Raumvolumen\n",
    "V_ra = 35*2.5 # m**3\n",
    "V_ra"
   ]
  },
  {
   "cell_type": "code",
   "execution_count": 12,
   "metadata": {},
   "outputs": [
    {
     "data": {
      "text/plain": [
       "0.5714285714285714"
      ]
     },
     "execution_count": 12,
     "metadata": {},
     "output_type": "execute_result"
    }
   ],
   "source": [
    "# Der CO_2-Volumenstrom\n",
    "dV_sch = 120e-3 # m**3/h\n",
    "\n",
    "# Der Außenluftvolumenstrom\n",
    "dV_au = 50 # m**3/h\n",
    "\n",
    "# Die CO_2-Konzentrationen\n",
    "k_au = 400e-6\n",
    "k_0 = k_au\n",
    "k_zul = 1000e-6\n",
    "k_inf = k_au + dV_sch/dV_au\n",
    "\n",
    "# Die Luftwechselzahl\n",
    "beta = dV_au/V_ra # 1/h\n",
    "beta"
   ]
  },
  {
   "cell_type": "code",
   "execution_count": 13,
   "metadata": {},
   "outputs": [
    {
     "data": {
      "text/html": [
       "<div>\n",
       "<style scoped>\n",
       "    .dataframe tbody tr th:only-of-type {\n",
       "        vertical-align: middle;\n",
       "    }\n",
       "\n",
       "    .dataframe tbody tr th {\n",
       "        vertical-align: top;\n",
       "    }\n",
       "\n",
       "    .dataframe thead th {\n",
       "        text-align: right;\n",
       "    }\n",
       "</style>\n",
       "<table border=\"1\" class=\"dataframe\">\n",
       "  <thead>\n",
       "    <tr style=\"text-align: right;\">\n",
       "      <th></th>\n",
       "      <th>0</th>\n",
       "      <th>1</th>\n",
       "      <th>2</th>\n",
       "      <th>3</th>\n",
       "      <th>4</th>\n",
       "    </tr>\n",
       "  </thead>\n",
       "  <tbody>\n",
       "    <tr>\n",
       "      <th>t</th>\n",
       "      <td>0.0</td>\n",
       "      <td>0.081633</td>\n",
       "      <td>0.163265</td>\n",
       "      <td>0.244898</td>\n",
       "      <td>0.326531</td>\n",
       "    </tr>\n",
       "    <tr>\n",
       "      <th>k</th>\n",
       "      <td>400.0</td>\n",
       "      <td>509.382328</td>\n",
       "      <td>613.779450</td>\n",
       "      <td>713.418572</td>\n",
       "      <td>808.516544</td>\n",
       "    </tr>\n",
       "  </tbody>\n",
       "</table>\n",
       "</div>"
      ],
      "text/plain": [
       "       0           1           2           3           4\n",
       "t    0.0    0.081633    0.163265    0.244898    0.326531\n",
       "k  400.0  509.382328  613.779450  713.418572  808.516544"
      ]
     },
     "execution_count": 13,
     "metadata": {},
     "output_type": "execute_result"
    }
   ],
   "source": [
    "# Das Zeitintervall\n",
    "lt = np.linspace(0,4)\n",
    "\n",
    "# Der Dataframe\n",
    "df = pd.DataFrame(\n",
    "    {\n",
    "        't': lt,\n",
    "        'k': 1e6*(k_inf + (k_0-k_inf)*np.exp(-beta*lt)) # in ppM\n",
    "    }\n",
    ")\n",
    "\n",
    "df.head().T"
   ]
  },
  {
   "cell_type": "code",
   "execution_count": 14,
   "metadata": {},
   "outputs": [
    {
     "data": {
      "image/png": "[encoded data removed]",
      "text/plain": [
       "<Figure size 432x288 with 1 Axes>"
      ]
     },
     "metadata": {
      "image/png": {
       "height": 265,
       "width": 405
      },
      "needs_background": "light"
     },
     "output_type": "display_data"
    }
   ],
   "source": [
    "ax = df.plot(x='t',y='k',label='$k=k(t)$')\n",
    "ax.axhline(1e6*k_zul,c='r')\n",
    "\n",
    "ax.grid()\n",
    "\n",
    "ax.set(\n",
    "    xlim=(0,4), xlabel='Zeit $t$ in Stunden',\n",
    "    ylim=(0,2500), ylabel='Schadstoffkonzentration $k$ in ppM'\n",
    ");"
   ]
  },
  {
   "cell_type": "markdown",
   "metadata": {},
   "source": [
    "Schon nach etwa einer halben Stunde ist die zulässige CO_2-Konzentration im Raum erreicht. Nach etwa 2 Stunden ist die Raumluftqualität inakzeptabel."
   ]
  }
 ],
 "metadata": {
  "kernelspec": {
   "display_name": "Python 3",
   "language": "python",
   "name": "python3"
  },
  "language_info": {
   "codemirror_mode": {
    "name": "ipython",
    "version": 3
   },
   "file_extension": ".py",
   "mimetype": "text/x-python",
   "name": "python",
   "nbconvert_exporter": "python",
   "pygments_lexer": "ipython3",
   "version": "3.7.6"
  }
 },
 "nbformat": 4,
 "nbformat_minor": 4
}
