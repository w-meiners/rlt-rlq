{
 "cells": [
  {
   "cell_type": "markdown",
   "metadata": {},
   "source": [
    "# Raumluftqualität 1.0"
   ]
  },
  {
   "cell_type": "markdown",
   "metadata": {},
   "source": [
    "In diesem Notebook werden die Zusammenhänge zwischen der CO_2-Produktion (zum Beispiel durch Personen) in einem Raum und der erforderlichen Belüftung dieses Raumes zusammengestellt. Einen Überblick über die Einschätzung der gesundheitlichen Wirkung von CO_2 finden Sie zum Beispiel in dem Dokument\n",
    "\n",
    "https://www.umweltbundesamt.de/sites/default/files/medien/pdfs/kohlendioxid_2008.pdf\n",
    "\n",
    "das Sie durch Anklicken des Links in einem neuen Tab öffnen können."
   ]
  },
  {
   "cell_type": "markdown",
   "metadata": {},
   "source": [
    "### Aufgabe 1\n",
    "\n",
    "Laden Sie sich dieses Dokument des Umweltbundesamtes herunter und informieren Sie sich über die Raumluftqualitäten IDA 1 bis IDA 4. Welche CO_2-Konzentration ist demnach für eine mittlere Raumluftqualität mindestens erforderlich?"
   ]
  },
  {
   "cell_type": "markdown",
   "metadata": {},
   "source": [
    "### Aufgabe 2\n",
    "\n",
    "Informieren Sie sich darüber, in welchem Bereich der CO_2-Konzentration die Raumluft als hygienisch auffällig angesehen wird. Geben Sie auch an, wann die Raumluft hygienisch inakzeptabel ist. Welche Maßnahmen sind möglich, um diesen Zustand zu ändern?"
   ]
  },
  {
   "cell_type": "markdown",
   "metadata": {},
   "source": [
    "## CO_2-Abgabe des Menschen\n",
    "\n",
    "Durch Verbrennungsprozesse gibt der Mensch Kohlendioxid ab. Die Menge des abgegebenen Kohlendioxids hängt dabei von der Belastung ab, unter der der Mensch steht. Anhaltspunkte für die Auslegung von Lüftungsanlagen findet man zum Beispiel in Ihrem Tabellenbuch (Ihle-Baader-Golle, Tabellenbuch Sanitär-Heizung-Klima/Lüftung) unter dem Stichpunkt Wärme und Wasserdampfabgabe einer Person (nach VDI 2078).\n",
    "\n",
    "Wird dieses CO_2 nicht durch Belüftung des Raumes abgeführt, so reichert es ich im Raum an und führt zu schlechter Raumluftqualität. Dabei hängt der erforderliche Belüftungsvolumenstrom von dem produzierten CO_2-Volumenstrom im Raum ab. Dieser kann mit den Angaben des Tabellenbuchs abgeschätzt werden."
   ]
  },
  {
   "cell_type": "markdown",
   "metadata": {},
   "source": [
    "Ein Maß für die Raumluftqualität ist die Konzentration $k$ des Kohlendioxids in der Raumluft. Diese Konzentration berechnet sich aus dem Verhältnis des Schadstoffvolumens zum Raumvolumen:\n",
    "\n",
    "$$\n",
    "  k = \\dfrac{V_{\\rm sch}}{V_{\\rm ra}}.\n",
    "$$\n",
    "\n",
    "Dabei ist $V_{\\rm sch}$ die Menge des produzierten Kohlendioxids und $V_{\\rm ra}$ das Raumvolumen. Je mehr CO_2 in der Raumluft vorhanden ist, um so höher ist die Schadstoffkonzentration $k$. Die Berechnungen können nicht nur für CO_2 als Schadstoff durchgeführt werden, sondern für beliebige andere Schadstoffe. \n",
    "\n",
    "Häufig wird als Maßeinheit für die Schadstoffkonzentration ppM (part per Million) benutzt, wobei die Umrechnungen\n",
    "\n",
    "$$\n",
    "  1 {\\rm ppM} = 1\\,\\dfrac{\\rm cm^3}{\\rm m^3} = 10^{-3} \\dfrac{\\ell}{\\rm m^3} = 10^{-4}\\% = 10^{-6}\n",
    "$$\n",
    "\n",
    "gelten."
   ]
  },
  {
   "cell_type": "markdown",
   "metadata": {},
   "source": [
    "### Beispiel 1:\n",
    "\n",
    "Die CO_2-Konzentration der Außenluft wird machmal mit 0.04% angegeben.\n",
    "\n",
    "Dabei gilt die Umrechnung\n",
    "\n",
    "$$\n",
    "  0.04\\% = \\dfrac{0.04}{100} = \\dfrac{0.04\\cdot 10\\,000}{100\\cdot 10\\,000} = 400\\,\\rm{ppM}\n",
    "$$\n",
    "\n",
    "Die Außenluft enthält also 400 ppM CO_2."
   ]
  },
  {
   "cell_type": "markdown",
   "metadata": {},
   "source": [
    "### Beispiel 2\n",
    "In einem gut gelüfteten Wohnzimmer von $40\\,\\rm{m}^2$ ist das Volumen $100\\,\\rm{m}^3$. Dann sind in der Raumluft\n",
    "\n",
    "\\begin{align}\n",
    "  V_{\\rm{CO_2}} &= k_\\rm{au}\\cdot V_\\rm{ra} \\\\\n",
    "  &= 400\\cdot 10^{-6} \\cdot 100 \\,\\rm{m}^3 \\\\\n",
    "  &= 0.04 \\,\\rm{m}^3 \\\\\n",
    "  &= 40\\,\\ell\n",
    "\\end{align}\n",
    "\n",
    "Das Wohnzimmer enthält demnach 40 Liter CO_2."
   ]
  },
  {
   "cell_type": "markdown",
   "metadata": {},
   "source": [
    "Dem Raum muss soviel Raumluft entnommen und durch Außenluft ersetzt werden, dass die stündlich produzierte CO_2-Menge gerade abtransportiert wird. Geht man davon aus, dass der Raum die zulässige CO_2-Konzentration $k_{\\rm zul}$ besitzt, so bedeutet dass\n",
    "\n",
    "\\begin{align}\n",
    "  \\underbrace{k_{\\rm zul}\\dot V_{\\rm ab}}_{\\text{abgeführt}} \n",
    "  &= \n",
    "  \\underbrace{\\dot V_{\\rm sch} + k_{\\rm au}\\dot V_{\\rm au}}_{\\text{zugeführt}}\n",
    "\\end{align}"
   ]
  },
  {
   "cell_type": "markdown",
   "metadata": {},
   "source": [
    "Da der abgeführte Volumenstrom $\\dot V_{\\rm ab}$ und der Außenluftvolumenstrom $\\dot V_{\\rm au}$ im Gleichgewicht stehen, müssen diese Werte gleich sein, es ist also $\\dot V_{\\rm ab} = \\dot V_{\\rm au}$. Im Raum wird der CO_2-Volumenstrom $\\dot V_{\\rm sch}$ freigesetzt. Dieser Volumenstrom ist durch die Abschätzung bekannt. Damit lässt sich die oben aufgestellte Formel nach $\\dot V_{\\rm au}$ umstellen:\n",
    "\n",
    "$$\n",
    "  \\dot V_{\\rm au} = \\dfrac{\\dot V_{\\rm sch}}{k_{\\rm zul} - k_{\\rm au}}\n",
    "$$"
   ]
  },
  {
   "cell_type": "markdown",
   "metadata": {},
   "source": [
    "Mit dieser Formel lässt sich berechnen, wie groß der erforderliche Außenluftvolumenstrom ist, wenn eine bestimmte Menge an CO_2 im Raum produziert wird und eine vorgeschriebene Raumluftqualität aufrecht erhalten werden soll. Ist dieser Wert bekannt, so kann damit die Luftwechselzahl $\\beta$ berechnet werden. Es ist\n",
    "\n",
    "$$\n",
    "  \\beta = \\dfrac{\\dot V_{\\rm au}}{V_{\\rm ra}}\n",
    "$$"
   ]
  },
  {
   "cell_type": "markdown",
   "metadata": {},
   "source": [
    "Die Luftwechselzahl $\\beta$ gibt an, wie oft das Raumvolumen je Stunde getauscht wird. Sie hat die Einheit \n",
    "\n",
    "$$\n",
    "  [\\beta] = \\dfrac{1}{\\rm h}\n",
    "$$\n",
    "\n",
    "Je höher die Luftwechselzahl ist, desto stärker sind die Auswirkungen auf die Luftbewegung im Raum bis hin zu Zugerscheinungen. In unbelüfteten Wohngebäuden wurde früher zum Feuchteschutz ein Luftwechsel von mindestens $0.5\\,{\\rm h}^{-1}$ gefordert, der durch natürliche Undichtigkeiten des Gebäudes sichergestellt war. In modernen Gebäuden, die einen Blowerdoortest absolviert haben, ist die natürliche Undichtigkeit des Gebäudes so klein, dass der Feuchteschutz durch Belüftung sichergestellt werden muss.\n",
    "\n",
    "In klimatisierten Räumen geht man häufig von Luftwechselzahlen aus, die im Bereich \n",
    "$3\\,{\\rm h}^{-1}\\le \\beta \\le 12\\,{\\rm h}^{-1}$ liegen. Bei höheren Luftwechselzahlen ist von Zugerscheinungen auszugehen. Dann sind Überlegungen notwendig, um entweder die Luftzufuhr zu verkleinern oder eine Luftverteilung sicherzustellen, die Zugerscheinungen ausschließt."
   ]
  },
  {
   "cell_type": "code",
   "execution_count": null,
   "metadata": {},
   "outputs": [],
   "source": []
  }
 ],
 "metadata": {
  "kernelspec": {
   "display_name": "Python 3",
   "language": "python",
   "name": "python3"
  },
  "language_info": {
   "codemirror_mode": {
    "name": "ipython",
    "version": 3
   },
   "file_extension": ".py",
   "mimetype": "text/x-python",
   "name": "python",
   "nbconvert_exporter": "python",
   "pygments_lexer": "ipython3",
   "version": "3.7.6"
  }
 },
 "nbformat": 4,
 "nbformat_minor": 4
}
