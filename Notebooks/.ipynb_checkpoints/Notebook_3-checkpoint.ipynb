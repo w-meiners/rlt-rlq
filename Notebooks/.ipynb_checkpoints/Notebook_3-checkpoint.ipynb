{
 "cells": [
  {
   "cell_type": "markdown",
   "metadata": {},
   "source": [
    "# Raumluftqualität 3.0\n",
    "\n",
    "In realen Gebäuden gibt es immer einen Luftaustausch mit der Umgebung. In modernen Gebäuden ist dieser aufgrund der hochwertigen Abdichtung nach einem Blowerdoortest sehr gering. Dann müssen Gebäude mechanisch belüftet werden, um Schadstoffe abzutransportieren und die Räume mit frischer Außenluft zu versorgen."
   ]
  },
  {
   "cell_type": "markdown",
   "metadata": {},
   "source": [
    "Wird ein Gebäude belüftet, so lässt sich bei bekannter Schadstoffproduktion und bei bekannten Konzentrationen der Raumluft und der Außenluft berechnen, welcher Volumenstrom zur Belüftung erforderlich ist. \n",
    "\n",
    "Dazu diente die Gleichgewichtsbetrachtung, dass aus dem Raum genauso viel Schadstoff über die Abluft abtransportiert werden muss, wie über die Außenluft und durch die Schadstoffquellen zugeführt wird.\n",
    "\n",
    "Der erforderliche Außenluftvolumenstrom ist:\n",
    "\n",
    "$$\n",
    "  \\dot V_{\\rm au} = \\dfrac{\\dot V_{\\rm sch}}{k_{\\rm zul} - k_{\\rm au}}.\n",
    "$$"
   ]
  },
  {
   "cell_type": "markdown",
   "metadata": {},
   "source": [
    "Im nächsten Schritt wird die Frage untersucht, wie sich die Schadstoffkonzentration in einem belüfteten Raum im Laufe der Zeit verändert. Dazu gehen wir zunächst von einem gut durchlüfteten Raum aus. Die CO_2-Konzentration in einem gut durchlüfteten Raum wird mit der CO_2-Konzentration der Außenluft übereinstimmen. Zu Beginn ist also\n",
    "\n",
    "$$\n",
    "  k_0 = k_{\\rm au}\n",
    "$$"
   ]
  },
  {
   "cell_type": "markdown",
   "metadata": {},
   "source": [
    "Zu einer beliebigen Zeit $t$ lässt sich die Schadstoffkonzentration $k(t)$ der Raumluft nach der folgenden Funktion berechnen:\n",
    "\n",
    "$$\n",
    "  k(t)= k_\\infty + (k_0-k_\\infty)\\cdot{\\mathrm e}^{-\\beta\\,(t-t_0)}\n",
    "$$\n",
    "\n",
    "Dabei ist $k_\\infty$ der Endwert, der sich nach (theoretisch unendlich) langer Zeit einstellt. Das Zeichen $\\infty$ wird mathematisch als \"Unendlich\" gelesen. $k_0$ ist der Startwert zur Zeit $t=t_0$, wobei meistens $t_0=0$ gesetzt wird. Manchmal ist es aber bequem, nicht bei $t_0=0$ beginnen zu müssen, sondern zu einer beliebigen Zeit.\n",
    "\n",
    "In einem gut durchlüfteten Raum ist $k_0 = k_\\rm{au} \\approx 400\\,\\rm{ppM}$.\n",
    "\n",
    "Der Wert $k_\\infty$ ist die Schadstoffkonzentration, die sich im Gleichgewicht zwischen Schadstoffzufuhr und -abtransport ergibt. Sie ist bekannt, wenn der Außenluftvolumenstrom $\\dot V_{\\rm au}$ und die Schadstoffproduktion $\\dot V_\\rm{sch}$ bekannt sind. Es ist nämlich\n",
    "\n",
    "$$\n",
    "  \\dot V_{\\rm au} = \\dfrac{\\dot V_{\\rm sch}}{k_\\infty -k_{\\rm au}}\n",
    "$$\n",
    "\n",
    "Nach $k_\\infty$ umgestellt, ergibt sich\n",
    "\n",
    "$$\n",
    "  k_\\infty = \n",
    "  k_{\\rm au} + \\dfrac{\\dot V_{\\rm sch}}{\\dot V_{\\rm au}}\n",
    "$$"
   ]
  },
  {
   "cell_type": "markdown",
   "metadata": {},
   "source": [
    "### Beispiel\n",
    "\n",
    "Ein Gebäude mit einer Grundfläche von $150\\,{\\rm m^2}$ und einer Geschosshöhe von $2.50\\,{\\rm m}$ wird mit \n",
    "$180\\,{\\rm \\dfrac{m^3}{h}}$ Außenluft belüftet. Zu Beginn ist die Schadstoffkonzentration $k_0=400\\,\\rm ppM$. Der Schadstoffvolumenstrom ist $540\\,\\rm\\dfrac{\\ell}{h}$ CO_2.\n",
    "\n",
    "Berechnen Sie, welche Schadstoffkonzentration sich im Gebäude einstellt und stellen Sie den zeitlichenn Verlauf von $k(t)$ für einen 8-Stundentag dar."
   ]
  },
  {
   "cell_type": "markdown",
   "metadata": {},
   "source": [
    "#### Lösung"
   ]
  },
  {
   "cell_type": "markdown",
   "metadata": {},
   "source": [
    "Zunächst wird das Raumvolumen berechnet. Es ergibt sich zu\n",
    "\n",
    "$$\n",
    "  V_\\rm{ra} = 150\\cdot 2.5\\,\\rm{m}^2 = 375\\,\\rm{m}^2\n",
    "$$\n",
    "\n",
    "oder, mittels Jupyter:"
   ]
  },
  {
   "cell_type": "code",
   "execution_count": 1,
   "metadata": {},
   "outputs": [
    {
     "data": {
      "text/plain": [
       "375.0"
      ]
     },
     "execution_count": 1,
     "metadata": {},
     "output_type": "execute_result"
    }
   ],
   "source": [
    "# Raumvolumen\n",
    "V_ra = 150*2.5 # m**3\n",
    "V_ra"
   ]
  },
  {
   "cell_type": "markdown",
   "metadata": {},
   "source": [
    "Im nächsten Schritt wird daraus die CO_2-Konzentration $k_\\infty$ ermittelt:\n",
    "\n",
    "$$\n",
    "  k_\\infty = k_\\rm{au} + \\dfrac{\\dot V_\\rm{sch}}{\\dot V_\\rm{ra}}\n",
    "  = 400\\,\\rm{ppM} + \\dfrac{540\\cdot 10^{-3}\\,\\rm{m}^3}{375\\,\\rm{m}^3}\n",
    "  = 3400\\,\\rm{ppM}\n",
    "$$\n",
    "\n",
    "oder, mittels Jupyter:"
   ]
  },
  {
   "cell_type": "code",
   "execution_count": 2,
   "metadata": {},
   "outputs": [
    {
     "data": {
      "text/plain": [
       "3400.0000000000005"
      ]
     },
     "execution_count": 2,
     "metadata": {},
     "output_type": "execute_result"
    }
   ],
   "source": [
    "# Schadstoffvolumenstrom (CO_2):\n",
    "dV_sch = 540e-3 # 180 l/h\n",
    "\n",
    "# CO_2-Konzentration der Außenluft\n",
    "k_0 = 400e-6 # 400 ppM\n",
    "\n",
    "# bekannter Außenluftvolumenstrom\n",
    "dV_au = 180 # m**3/h\n",
    "\n",
    "# Daraus berechneter Endwert der Konzentration \n",
    "k_inf = k_0 + dV_sch/dV_au\n",
    "\n",
    "# Kontrollausgabe in ppM\n",
    "k_inf*1e6 # ppM"
   ]
  },
  {
   "cell_type": "markdown",
   "metadata": {},
   "source": [
    "Die Luftwechselzahl ergibt sich durch\n",
    "\n",
    "$$\n",
    "  \\beta = \\dfrac{\\dot V_\\rm{au}}{V_\\rm{ra}} = 0.48\\,\\rm\\dfrac{1}{h}\n",
    "$$\n",
    "\n",
    "oder, mittels Jupyter:"
   ]
  },
  {
   "cell_type": "code",
   "execution_count": 3,
   "metadata": {},
   "outputs": [
    {
     "data": {
      "text/plain": [
       "0.48"
      ]
     },
     "execution_count": 3,
     "metadata": {},
     "output_type": "execute_result"
    }
   ],
   "source": [
    "# Luftwechselzahl beta:\n",
    "beta = dV_au/V_ra # 1/h\n",
    "beta"
   ]
  },
  {
   "cell_type": "markdown",
   "metadata": {},
   "source": [
    "Für das Plotten wird hier nur das Jupyter Notebook verwendet:"
   ]
  },
  {
   "cell_type": "code",
   "execution_count": 4,
   "metadata": {},
   "outputs": [],
   "source": [
    "# Plotten vorbereiten\n",
    "from matplotlib import pyplot as plt\n",
    "%config InlineBackend.figure_format='retina'\n",
    "\n",
    "import pandas as pd\n",
    "import numpy as np"
   ]
  },
  {
   "cell_type": "code",
   "execution_count": 11,
   "metadata": {},
   "outputs": [
    {
     "data": {
      "text/html": [
       "<div>\n",
       "<style scoped>\n",
       "    .dataframe tbody tr th:only-of-type {\n",
       "        vertical-align: middle;\n",
       "    }\n",
       "\n",
       "    .dataframe tbody tr th {\n",
       "        vertical-align: top;\n",
       "    }\n",
       "\n",
       "    .dataframe thead th {\n",
       "        text-align: right;\n",
       "    }\n",
       "</style>\n",
       "<table border=\"1\" class=\"dataframe\">\n",
       "  <thead>\n",
       "    <tr style=\"text-align: right;\">\n",
       "      <th></th>\n",
       "      <th>0</th>\n",
       "      <th>1</th>\n",
       "      <th>2</th>\n",
       "      <th>3</th>\n",
       "      <th>4</th>\n",
       "    </tr>\n",
       "  </thead>\n",
       "  <tbody>\n",
       "    <tr>\n",
       "      <th>t</th>\n",
       "      <td>0.0</td>\n",
       "      <td>0.25000</td>\n",
       "      <td>0.500000</td>\n",
       "      <td>0.750000</td>\n",
       "      <td>1.000000</td>\n",
       "    </tr>\n",
       "    <tr>\n",
       "      <th>k</th>\n",
       "      <td>400.0</td>\n",
       "      <td>739.23869</td>\n",
       "      <td>1040.116417</td>\n",
       "      <td>1306.971022</td>\n",
       "      <td>1543.649825</td>\n",
       "    </tr>\n",
       "  </tbody>\n",
       "</table>\n",
       "</div>"
      ],
      "text/plain": [
       "       0          1            2            3            4\n",
       "t    0.0    0.25000     0.500000     0.750000     1.000000\n",
       "k  400.0  739.23869  1040.116417  1306.971022  1543.649825"
      ]
     },
     "execution_count": 11,
     "metadata": {},
     "output_type": "execute_result"
    }
   ],
   "source": [
    "# Das Zeitintervall auf der x-Achse:\n",
    "lt = np.linspace(0,4,17) # 0..4h\n",
    "\n",
    "# Der Dataframe\n",
    "df = pd.DataFrame(\n",
    "    {\n",
    "        't': lt,\n",
    "        'k': 1e6*(k_inf + (k_0-k_inf)*np.exp(-beta*lt)) # k in ppM\n",
    "    }\n",
    ")\n",
    "\n",
    "# Kontrollausdruck\n",
    "df.head().T"
   ]
  },
  {
   "cell_type": "code",
   "execution_count": 17,
   "metadata": {},
   "outputs": [
    {
     "data": {
      "image/png": "[encoded data removed]",
      "text/plain": [
       "<Figure size 432x288 with 1 Axes>"
      ]
     },
     "metadata": {
      "image/png": {
       "height": 265,
       "width": 405
      },
      "needs_background": "light"
     },
     "output_type": "display_data"
    }
   ],
   "source": [
    "# Zeitliche Entwicklung der CO_2-Konzentragion im Diagramm\n",
    "ax = df.plot(x='t',y='k',label=\"$k = k(t)$\")\n",
    "ax.axhline(1e6*k_inf,c='r')\n",
    "ax.grid()\n",
    "ax.set(\n",
    "    ylim=(0,4000), ylabel=r'CO_2-Konzentration $k$ in $\\rm ppM$',\n",
    "    xlim=(0,4), xlabel=r'Zeit $t$ in Stunden'\n",
    ");"
   ]
  },
  {
   "cell_type": "markdown",
   "metadata": {},
   "source": [
    "Man erkennt, dass bereits nach etwa 30 Minuten die Grenze von 1000 ppM erreicht wird. Nach etwas über 90 Minuten ist die Raumluftqualität nicht mehr akzeptabel."
   ]
  },
  {
   "cell_type": "markdown",
   "metadata": {},
   "source": [
    "## Die Schadstoffbilanz des Raumes nach einem Zeitschritt\n",
    "\n",
    "Herleitung der Lösung."
   ]
  },
  {
   "cell_type": "markdown",
   "metadata": {},
   "source": [
    "Im nächsten Schritt wird untersucht, wie sich $k$ verändert, nachdem der Raum eine bestimmte Zeit $\\Delta t$ belüftet worden ist. \n",
    "\n",
    "- Von den Personen (oder sonstigen Schadstoffquellen) im Raum wird eine bestimmte Schadstoffmenge abgegeben, \n",
    "  nämlich\n",
    "  $$\n",
    "    \\dot V{\\rm sch}\\cdot\\Delta t\n",
    "  $$\n",
    "- Mit der Außenluft wird eine bestimmte Schadstoffmenge in den Raum hineingetragen, nämlich\n",
    "  $$\n",
    "    k_{\\rm au}\\cdot\\dot V_{\\rm au}\\cdot\\Delta t\n",
    "  $$\n",
    "- Mit der Abluft wird eine bestimmte Schadstoffmenge aus dem Raum herausgetragen, nämlich\n",
    "  $$\n",
    "    k_0\\cdot\\dot V_{\\rm ab}\\cdot\\Delta t\n",
    "  $$\n",
    "  \n",
    "Damit ergibt sich:\n",
    "\n",
    "$$\n",
    "  k_1 \\cdot V_{\\rm ra} = \n",
    "    k_0 \\cdot V_{\\rm ra} \n",
    "  + \\dot V{\\rm sch}\\cdot\\Delta t \n",
    "  + k_{\\rm au}\\cdot\\dot V_{\\rm au}\\cdot\\Delta t \n",
    "  - k_0\\cdot\\dot V_{\\rm ab}\\cdot\\Delta t\n",
    "$$\n",
    "\n",
    "Oder, wenn durch das Raumvolumen dividiert wird:\n",
    "\n",
    "$$\n",
    "  k_1 = \n",
    "    k_0 \n",
    "  + \\dfrac{\\dot V{\\rm sch}}{V_{\\rm ra}}\\cdot\\Delta t \n",
    "  + k_{\\rm au}\\cdot\\dfrac{\\dot V_{\\rm au}}{V_{\\rm ra}}\\cdot\\Delta t \n",
    "  - k_0\\cdot\\dfrac{\\dot V_{\\rm ab}}{V_{\\rm ra}}\\cdot\\Delta t\n",
    "$$"
   ]
  },
  {
   "cell_type": "markdown",
   "metadata": {},
   "source": [
    "Nun ist $\\dfrac{\\dot V_{\\rm au}}{V_{\\rm ra}} = \\dfrac{\\dot V_{\\rm ab}}{V_{\\rm ra}} = \\beta$ gerade die Luftwechselzahl des Raumes. Deshalb ist\n",
    "\n",
    "$$\n",
    " k_1 =\n",
    "    k_0\n",
    " + \\dfrac{\\dot V{\\rm sch}}{V_{\\rm ra}}\\cdot\\Delta t \n",
    " + k_{\\rm au}\\cdot\\beta\\cdot\\Delta t \n",
    " - k_0\\cdot\\beta\\cdot\\Delta t\n",
    "$$\n",
    "\n",
    "oder, zusammengefasst:\n",
    "\n",
    "$$\n",
    "  k_1 = \n",
    "     k_0\\cdot\\left(1 -\\beta\\cdot\\Delta t \\right) \n",
    "  + \\left(\\dfrac{\\dot V{\\rm sch}}{V_{\\rm ra}}\n",
    "  + k_{\\rm au}\\cdot\\beta\\right)\\cdot\\Delta t \n",
    "$$"
   ]
  },
  {
   "cell_type": "markdown",
   "metadata": {},
   "source": [
    "Genau so, wie $k_1$ aus $k_0$ berechnet wurde, lässt sich $k_2$ aus $k_1$ berechnen, u.s.w. Das führt der Reihe nach auf\n",
    "\n",
    "\\begin{align}\n",
    "    k_1 &= \n",
    "     k_0\\cdot\\left(1 -\\beta\\cdot\\Delta t \\right) \n",
    "  + \\left(\\dfrac{\\dot V{\\rm sch}}{V_{\\rm ra}}\n",
    "  + k_{\\rm au}\\cdot\\beta\\right)\\cdot\\Delta t \n",
    "  \\\\[2ex]\n",
    "  k_2 &= \n",
    "     k_1\\cdot\\left(1 -\\beta\\cdot\\Delta t \\right) \n",
    "  + \\left(\\dfrac{\\dot V{\\rm sch}}{V_{\\rm ra}}\n",
    "  + k_{\\rm au}\\cdot\\beta\\right)\\cdot\\Delta t \n",
    "  \\\\[2ex]\n",
    "  k_3 &= \n",
    "     k_2\\cdot\\left(1 -\\beta\\cdot\\Delta t \\right) \n",
    "  + \\left(\\dfrac{\\dot V{\\rm sch}}{V_{\\rm ra}}\n",
    "  + k_{\\rm au}\\cdot\\beta\\right)\\cdot\\Delta t \n",
    "  \\\\[2ex]\n",
    "  k_4 &= \n",
    "     k_3\\cdot\\left(1 -\\beta\\cdot\\Delta t \\right) \n",
    "  + \\left(\\dfrac{\\dot V{\\rm sch}}{V_{\\rm ra}}\n",
    "  + k_{\\rm au}\\cdot\\beta\\right)\\cdot\\Delta t \n",
    "  \\\\[2ex]\n",
    "   &\\,\\,\\vdots\n",
    "  \\\\\n",
    "   &=\n",
    "   \\\\\n",
    "   &\\,\\,\\vdots\n",
    "   \\\\[2ex]\n",
    "  k_{n} &= \n",
    "     k_{n-1}\\cdot\\left(1 -\\beta\\cdot\\Delta t \\right) \n",
    "  + \\left(\\dfrac{\\dot V{\\rm sch}}{V_{\\rm ra}}\n",
    "  + k_{\\rm au}\\cdot\\beta\\right)\\cdot\\Delta t \n",
    "\\end{align}"
   ]
  },
  {
   "cell_type": "markdown",
   "metadata": {},
   "source": [
    "Da der Unterschied zwischen $k_{n}$ und $k_{n-1}$ immer kleiner wird, gilt schließlich\n",
    "\n",
    "\\begin{align}\n",
    "  k_{\\infty} &= \n",
    "     k_{\\infty}\\cdot\\left(1 -\\beta\\cdot\\Delta t \\right) \n",
    "  + \\left(\\dfrac{\\dot V{\\rm sch}}{V_{\\rm ra}}\n",
    "  + k_{\\rm au}\\cdot\\beta\\right)\\cdot\\Delta t \n",
    "\\end{align}\n",
    "\n",
    "wobei der Wert $k_\\infty$ nach (theoretisch) unendlich langer Zeit erreicht wird.\n",
    "\n",
    "Bildet man nun die Differenzen $k_1 - k_\\infty$, $k_2-k_\\infty$, $\\ldots$ $k_{n+1} - k_\\infty$, so ergeben sich die einfacheren Formeln\n",
    "\n",
    "\\begin{align}\n",
    "  k_1 - k_\\infty &= (k_0 - k_\\infty)\\cdot\\left(1 -\\beta\\cdot\\Delta t \\right) \\\\\n",
    "  k_2 - k_\\infty &= (k_1 - k_\\infty)\\cdot\\left(1 -\\beta\\cdot\\Delta t \\right) \n",
    "                  = (k_0 - k_\\infty)\\cdot\\left(1 -\\beta\\cdot\\Delta t \\right)^2\\\\\n",
    "  k_3 - k_\\infty &= (k_2 - k_\\infty)\\cdot\\left(1 -\\beta\\cdot\\Delta t \\right)\n",
    "                  = (k_0 - k_\\infty)\\cdot\\left(1 -\\beta\\cdot\\Delta t \\right)^3\\\\\n",
    "  k_4 - k_\\infty &= (k_3 - k_\\infty)\\cdot\\left(1 -\\beta\\cdot\\Delta t \\right)\n",
    "                  = (k_0 - k_\\infty)\\cdot\\left(1 -\\beta\\cdot\\Delta t \\right)^4\\\\\n",
    "                 &\\,\\,\\vdots\\\\\n",
    "                 &= \\\\\n",
    "                 &\\,\\,\\vdots\\\\\n",
    "  k_n - k_\\infty &= (k_{n-1} - k_\\infty)\\cdot\\left(1 -\\beta\\cdot\\Delta t \\right)\n",
    "                  = (k_0 - k_\\infty)\\cdot\\left(1 -\\beta\\cdot\\Delta t \\right)^n\\\\\n",
    "\\end{align}"
   ]
  },
  {
   "cell_type": "markdown",
   "metadata": {},
   "source": [
    "Lässt man nun das Zeitintervall $\\Delta t$ immer kleiner werden, so werden immer mehr Zeitschritte benötigt, um den Zeitpunkt $t = n\\cdot\\Delta t$ zu erreichen. Es ergibt sich \n",
    "\n",
    "$$\n",
    "  t = n\\cdot\\Delta t \\implies \\Delta t = \\dfrac{t}{n}\n",
    "$$\n",
    "\n",
    "und, mit der Eulerschen Formel für die Funktion ${\\rm e}^x$, nach der\n",
    "\n",
    "$$\n",
    "  \\lim_{n\\to\\infty} \n",
    "  \\left(\n",
    "    1 + \\dfrac{x}{n}\n",
    "  \\right)^n\n",
    "  = {\\rm e}^x\n",
    "$$\n",
    "\n",
    "ist:\n",
    "\n",
    "$$\n",
    "  (1-\\beta\\cdot\\Delta t)^n = \\left(1-\\dfrac{\\beta\\,t}{n}\\right)^n \\to {\\mathrm e}^{-\\beta\\,t}\n",
    "  \\quad\\text{für}\\quad n\\to\\infty\n",
    "$$\n",
    "\n",
    "Wegen $n\\cdot\\Delta t = t$ kann man $k_n$ durch $k(t)$ ersetzen. Damit ergibt sich schließlich die Formel\n",
    "\n",
    "$$\n",
    "  k(t) - k_\\infty = (k_0 - k_\\infty)\\cdot{\\mathrm e}^{-\\beta\\,t}\n",
    "$$"
   ]
  },
  {
   "cell_type": "markdown",
   "metadata": {},
   "source": [
    "Dies Ergebnis schreibt man auch in der Form\n",
    "\n",
    "$$\n",
    "  k(t) = k_\\infty + (k_0 - k_\\infty)\\cdot{\\mathrm e}^{-\\beta\\,t}\n",
    "$$"
   ]
  }
 ],
 "metadata": {
  "kernelspec": {
   "display_name": "Python 3",
   "language": "python",
   "name": "python3"
  },
  "language_info": {
   "codemirror_mode": {
    "name": "ipython",
    "version": 3
   },
   "file_extension": ".py",
   "mimetype": "text/x-python",
   "name": "python",
   "nbconvert_exporter": "python",
   "pygments_lexer": "ipython3",
   "version": "3.7.6"
  }
 },
 "nbformat": 4,
 "nbformat_minor": 4
}
