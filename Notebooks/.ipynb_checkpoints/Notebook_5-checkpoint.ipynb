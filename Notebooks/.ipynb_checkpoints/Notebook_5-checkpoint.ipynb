{
 "cells": [
  {
   "cell_type": "markdown",
   "metadata": {},
   "source": [
    "# Raumluftqualität 5.0"
   ]
  },
  {
   "cell_type": "markdown",
   "metadata": {},
   "source": [
    "## Die Zeitkonstante\n",
    "\n",
    "Ein Raum von $50\\,\\rm m^3$wird mit der Luftwechselzahl $\\beta=2\\,\\rm\\dfrac{1}{h}$ belüftet. Die CO_2-Konzentrationen der Außenluft und die Raumluftqualität sind 400 ppM und 1000 ppM.\n",
    "\n",
    "Aus diesen Angaben lässt sich ermitteln, wieviel CO_2 freigesetzt wird, und wie groß der Außenluftvolumenstrom ist."
   ]
  },
  {
   "cell_type": "code",
   "execution_count": 1,
   "metadata": {},
   "outputs": [],
   "source": [
    "from matplotlib import pyplot as plt, ticker as tk\n",
    "%config InlineBackend.figure_format='retina'\n",
    "\n",
    "import numpy as np\n",
    "import pandas as pd"
   ]
  },
  {
   "cell_type": "markdown",
   "metadata": {},
   "source": [
    "$$\n",
    "  k_\\infty = k_\\rm{au} + \\dfrac{\\dot V_\\rm{sch}}{\\dot V_\\rm{au}}\n",
    "  = k_\\rm{au} + \\dfrac{1}{\\beta}\\,\\dfrac{\\dot V_\\rm{sch}}{V_\\rm{ra}}\n",
    "$$"
   ]
  },
  {
   "cell_type": "code",
   "execution_count": 4,
   "metadata": {},
   "outputs": [
    {
     "data": {
      "text/plain": [
       "100"
      ]
     },
     "execution_count": 4,
     "metadata": {},
     "output_type": "execute_result"
    }
   ],
   "source": [
    "V_ra = 50 # m**3\n",
    "\n",
    "beta = 2 # 1/h\n",
    "\n",
    "k_zul = 1000e-6\n",
    "k_0 = k_au = 400e-6\n",
    "\n",
    "dV_au = beta*V_ra\n",
    "dV_au"
   ]
  },
  {
   "cell_type": "code",
   "execution_count": 7,
   "metadata": {},
   "outputs": [
    {
     "data": {
      "text/plain": [
       "60.00000000000001"
      ]
     },
     "execution_count": 7,
     "metadata": {},
     "output_type": "execute_result"
    }
   ],
   "source": [
    "dV_sch = (k_zul - k_au)*dV_au\n",
    "dV_sch*1000 # l/h"
   ]
  }
 ],
 "metadata": {
  "kernelspec": {
   "display_name": "Python 3",
   "language": "python",
   "name": "python3"
  },
  "language_info": {
   "codemirror_mode": {
    "name": "ipython",
    "version": 3
   },
   "file_extension": ".py",
   "mimetype": "text/x-python",
   "name": "python",
   "nbconvert_exporter": "python",
   "pygments_lexer": "ipython3",
   "version": "3.7.6"
  }
 },
 "nbformat": 4,
 "nbformat_minor": 4
}
