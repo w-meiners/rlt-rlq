{
 "cells": [
  {
   "cell_type": "markdown",
   "metadata": {},
   "source": [
    "# Raumluftqualität 6.0"
   ]
  },
  {
   "cell_type": "markdown",
   "metadata": {},
   "source": [
    "Für einen belüfteten Raum ist\n",
    "\n",
    "$$\n",
    "  k(t) = k_\\infty + (k_0-k_\\infty)\\,\\rm{e}^{-\\beta\\,t}\n",
    "$$"
   ]
  },
  {
   "cell_type": "markdown",
   "metadata": {},
   "source": [
    "Dieser exponentielle Verlauf nähert sich dem Wert $k_\\infty$ immer stärker an, kann ihn theoretisch aber nicht erreichen. Das hat seinen Grund darin, dass die Exponentialfunktion (theoretisch) niemals den Wert 0 annehmen kann."
   ]
  },
  {
   "cell_type": "markdown",
   "metadata": {},
   "source": [
    "Für praktische Zwecke ist das Modell sehr gut geeignet, weil es die Annäherung von $k(t)$ an $k_\\infty$ sehr gut zeigt."
   ]
  },
  {
   "cell_type": "code",
   "execution_count": null,
   "metadata": {},
   "outputs": [],
   "source": [
    "from sympy import *\n",
    "init_printing()\n",
    "\n",
    "from matplotlib import pyplot as plt, ticker as tk\n",
    "%config InlineBackend.figure_format='retina' # nur für Macbook Pro nötig\n",
    "\n",
    "import numpy as np\n",
    "import pandas as pd\n",
    "\n",
    "from fun_expr import Function_from_Expression as FE"
   ]
  },
  {
   "cell_type": "code",
   "execution_count": null,
   "metadata": {},
   "outputs": [],
   "source": [
    "# Die Funktionsvariable definieren\n",
    "t = Symbol('t')\n",
    "\n",
    "# bekannte Konstanten\n",
    "k_zul = 1000e-6\n",
    "k_0 = k_au = 400e-6\n",
    "\n",
    "beta = 0.5\n",
    "t_0 = 0\n",
    "\n",
    "# Die Funktion k(t) definieren\n",
    "k = FE(t, k_zul + (k_0-k_zul)*exp(-beta*(t-t_0)),name='k')\n",
    "k.equation()"
   ]
  },
  {
   "cell_type": "code",
   "execution_count": null,
   "metadata": {},
   "outputs": [],
   "source": [
    "fig,ax = plt.subplots()\n",
    "\n",
    "ax.axhline(1e6*k_zul,c='r')\n",
    "\n",
    "lx = np.linspace(0,20)\n",
    "ax.plot(lx,1e6*k.lambdified(lx))\n",
    "\n",
    "ax.set(\n",
    "    ylim=(0,1200), ylabel='Schadstoffkonzentration $k$ in ppM',\n",
    "    xlim=(0,20), xlabel='Zeit $t$ in Stunden'\n",
    ")\n",
    "\n",
    "Delta_k = (k_zul-k_0)*5e-2\n",
    "\n",
    "#ax.fill_between(lx, 1e6*(k_zul+Delta_k), 1e6*(k_zul-Delta_k),color='r',alpha=0.25)\n",
    "\n",
    "ax.grid(c='k',lw=0.25)"
   ]
  },
  {
   "cell_type": "markdown",
   "metadata": {},
   "source": [
    "Wichtig ist die Frage, wann der Gleichgewichtszustand erreicht ist. Für diese Frage\n",
    "ist die Exponentialfunktion nicht so gut geeignet, weil der Zustand $k_\\infty$ theoretisch nie erreicht wird.\n",
    "\n",
    "Deshalb kann nicht berechnet werden, wie lange es dauert, bis dieser Zustand erreicht ist."
   ]
  },
  {
   "cell_type": "markdown",
   "metadata": {},
   "source": [
    "Man stellt sich in diesem Fall nicht die Frage, wann der Grenzwert wirklich erreicht wird, sondern fragt stattdessen, wann ein bestimmtes \"Toleranzband\" erreicht wird. \n",
    "\n",
    "Ein solches Toleranzband kann man sich wie einen Schlauch vorstellen, in dessen Mitte $k_\\infty$ liegt."
   ]
  },
  {
   "cell_type": "code",
   "execution_count": null,
   "metadata": {},
   "outputs": [],
   "source": [
    "fig,ax = plt.subplots()\n",
    "\n",
    "ax.axhline(1e6*k_zul,c='r')\n",
    "\n",
    "lx = np.linspace(0,20)\n",
    "ax.plot(lx,1e6*k.lambdified(lx))\n",
    "\n",
    "ax.set(\n",
    "    ylim=(0,1200), ylabel='Schadstoffkonzentration $k$ in ppM',\n",
    "    xlim=(0,20), xlabel='Zeit $t$ in Stunden'\n",
    ")\n",
    "\n",
    "Delta_k = (k_zul-k_0)*5e-2\n",
    "\n",
    "ax.fill_between(lx, 1e6*(k_zul+Delta_k), 1e6*(k_zul-Delta_k),color='r',alpha=0.25)\n",
    "\n",
    "#ax.scatter(6,970,c='k')\n",
    "\n",
    "ax.grid(c='k',lw=0.25)"
   ]
  },
  {
   "cell_type": "markdown",
   "metadata": {},
   "source": [
    "Hat das \"Toleranzband\" eine Breite von $\\pm 5\\%$, kann man sich die Rechnung sparen. Dann hat $t$ etwa den Wert von drei Zeitkonstanten, also sechs Stunden."
   ]
  },
  {
   "cell_type": "markdown",
   "metadata": {},
   "source": [
    "Wie berechnet man den Zeitpunkt, an dem $k(t)$ das Toleranzband erreicht?"
   ]
  },
  {
   "cell_type": "markdown",
   "metadata": {},
   "source": [
    "$$\n",
    "  k(t) = k_\\infty + (k_0-k_\\infty)\\cdot\\mathrm{e}^{-\\beta\\,t}\n",
    "$$"
   ]
  },
  {
   "cell_type": "markdown",
   "metadata": {},
   "source": [
    "Wir setzen\n",
    "\n",
    "$$\n",
    "  k(t) = k_\\infty - (k_\\infty - k_0)\\cdot\\epsilon\n",
    "$$"
   ]
  },
  {
   "cell_type": "markdown",
   "metadata": {},
   "source": [
    "Gleichsetzen liefert:\n",
    "\n",
    "$$\n",
    "  k_\\infty + (k_0-k_\\infty)\\cdot\\mathrm{e}^{-\\beta\\,t}\n",
    "  =\n",
    "  k_\\infty - (k_\\infty - k_0)\\cdot\\epsilon\n",
    "$$"
   ]
  },
  {
   "cell_type": "markdown",
   "metadata": {},
   "source": [
    "\n",
    "Gesucht ist die Zeit $t$ auf der linken Seite der Gleichung. \n",
    "\n",
    "Um die zu berechnen, wird zunächst die Summe auf der linken Seite aufgelöst. Dazu wird $k_\\infty$ auf beiden Seiten der Gleichung subtrahiert."
   ]
  },
  {
   "cell_type": "markdown",
   "metadata": {},
   "source": [
    "$$\n",
    "  (k_0-k_\\infty)\\cdot\\mathrm{e}^{-\\beta\\,t}\n",
    "  = - (k_\\infty - k_0)\\cdot\\epsilon\n",
    "$$"
   ]
  },
  {
   "cell_type": "markdown",
   "metadata": {},
   "source": [
    "Die Faktoren $k_0 - k_\\infty$ und $-(k_\\infty - k_0)$ sind gleich und können deshalb ebenfalls wegfallen:"
   ]
  },
  {
   "cell_type": "markdown",
   "metadata": {},
   "source": [
    "$$\n",
    "  \\mathrm{e}^{-\\beta\\,t}  = \\epsilon\n",
    "$$"
   ]
  },
  {
   "cell_type": "markdown",
   "metadata": {},
   "source": [
    "Die Umkehrung der Exponentialfunktion $\\mathrm{e}^x$ ist die Logarithmusfunktion, in diesem Fall der natürliche Logarithmus $\\ln x$. (Es ist übrigens üblich, keine Klammern um das Argument des Logarithmus zu schreiben).\n",
    "\n",
    "Das bedeutet: Wird ab beide Seiten der Gleichung der natürliche Logarithmus angewendet, so steht link nur noch der Ausdruck $-\\beta\\,t$:"
   ]
  },
  {
   "cell_type": "markdown",
   "metadata": {},
   "source": [
    "$$\n",
    "  -\\beta\\,t = \\ln\\epsilon\n",
    "$$"
   ]
  },
  {
   "cell_type": "markdown",
   "metadata": {},
   "source": [
    "Nun muss nur noch durch den Zahlenwert $-\\beta$ dividiert werden:\n",
    "\n",
    "$$\n",
    "  t = -\\dfrac{\\ln\\epsilon}{\\beta}\n",
    "$$"
   ]
  },
  {
   "cell_type": "code",
   "execution_count": null,
   "metadata": {},
   "outputs": [],
   "source": [
    "-1/beta*ln(0.05)"
   ]
  },
  {
   "cell_type": "code",
   "execution_count": null,
   "metadata": {},
   "outputs": [],
   "source": [
    "image = ImageRecorder(stream=camera)\n",
    "image"
   ]
  },
  {
   "cell_type": "code",
   "execution_count": null,
   "metadata": {},
   "outputs": [],
   "source": [
    "image.close()"
   ]
  }
 ],
 "metadata": {
  "kernelspec": {
   "display_name": "Python 3",
   "language": "python",
   "name": "python3"
  },
  "language_info": {
   "codemirror_mode": {
    "name": "ipython",
    "version": 3
   },
   "file_extension": ".py",
   "mimetype": "text/x-python",
   "name": "python",
   "nbconvert_exporter": "python",
   "pygments_lexer": "ipython3",
   "version": "3.7.7"
  }
 },
 "nbformat": 4,
 "nbformat_minor": 4
}
