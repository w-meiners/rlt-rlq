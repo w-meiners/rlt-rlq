{
 "cells": [
  {
   "cell_type": "markdown",
   "metadata": {},
   "source": [
    "# Raumluftqualität 5.0"
   ]
  },
  {
   "cell_type": "markdown",
   "metadata": {},
   "source": [
    "Für einen belüfteten Raum ist\n",
    "\n",
    "$$\n",
    "  k(t) = k_\\infty + (k_0-k_\\infty)\\,\\rm{e}^{-\\beta\\,t}\n",
    "$$"
   ]
  },
  {
   "cell_type": "markdown",
   "metadata": {},
   "source": [
    "Dieser exponentielle Verlauf nähert sich dem Wert $k_\\infty$ immer stärker an, kann ihn theoretisch aber nicht erreichen. Das hat seinen Grund darin, dass die Exponentialfunktion (theoretisch) niemals den Wert 0 annehmen kann."
   ]
  },
  {
   "cell_type": "markdown",
   "metadata": {},
   "source": [
    "Beispiel: für $k_0=400\\,\\rm ppM$, $k_\\infty=1000\\,\\rm ppM$, $\\beta = 0.5$ und $t_0=0$ ergibt sich:\n",
    "\n",
    "![Verlauf der CO_2-Konzentration](Nb_5_fig_1.png)"
   ]
  },
  {
   "cell_type": "markdown",
   "metadata": {},
   "source": [
    "Die Luftwechselzahl ist $\\beta = 0.5\\,\\rm\\dfrac{1}{h}$. Der Kehrwert dieser Zahl wird als Zeitkonstante bezeichnet, es ist\n",
    "\n",
    "$$\n",
    "  t_\\rm{k} = \\dfrac{1}{\\beta} = 2\\,\\rm{h}\n",
    "$$"
   ]
  },
  {
   "cell_type": "markdown",
   "metadata": {},
   "source": [
    "Wird die Zeitkonstante $t_\\rm{k}$ in die Funktion $k(t)$ eingesetzt, so ergibt sich\n",
    "\n",
    "$$\n",
    "  k(t_\\rm{k}) = k_\\infty + (k_0-k_\\infty)\\,\\rm{e}^{-1}\n",
    "$$\n",
    "\n",
    "Entsprechend ergibt sich nach $2, 3, \\ldots n$ Zeitkonstanten:\n",
    "\n",
    "$$\n",
    "  k(n\\,t_\\rm{k}) = k_\\infty + (k_0-k_\\infty)\\,\\rm{e}^{-n}\n",
    "$$\n",
    "\n",
    "Hierfür schreibt man auch\n",
    "\n",
    "$$\n",
    "  \\dfrac{k(n\\,t_\\rm{k}) -k_\\infty}{k_0-k_\\infty} = \\rm{e}^{-n}\n",
    "$$"
   ]
  },
  {
   "cell_type": "markdown",
   "metadata": {},
   "source": [
    "Nach einer Zeitkonstanten ist die Differenz $k(t) -k_\\infty$ auf den Wert $\\frac{1}{e}\\approx 0.368 = 36.8\\%$ abgesunken.\n",
    "\n",
    "Nach drei Zeitkonstanten sind es noch etwa $5\\,\\%$ und nach fünf Zeitkonstanten etwa 6.74 Promille."
   ]
  },
  {
   "cell_type": "code",
   "execution_count": 1,
   "metadata": {},
   "outputs": [],
   "source": [
    "from sympy import *\n",
    "init_printing()\n",
    "\n",
    "from matplotlib import pyplot as plt, ticker as tk\n",
    "%config InlineBackend.figure_format='retina' # nur für Macbook Pro nötig\n",
    "\n",
    "import numpy as np\n",
    "import pandas as pd\n",
    "\n",
    "from fun_expr import Function_from_Expression as FE"
   ]
  },
  {
   "cell_type": "code",
   "execution_count": 2,
   "metadata": {},
   "outputs": [
    {
     "data": {
      "text/latex": [
       "$\\displaystyle k\\left(t\\right) = 0.001 - 0.0006 e^{- 0.5 t}$"
      ],
      "text/plain": [
       "<IPython.core.display.Math object>"
      ]
     },
     "execution_count": 2,
     "metadata": {},
     "output_type": "execute_result"
    }
   ],
   "source": [
    "# Die Funktionsvariable definieren\n",
    "t = Symbol('t')\n",
    "\n",
    "# bekannte Konstanten\n",
    "k_zul = 1000e-6\n",
    "k_0 = k_au = 400e-6\n",
    "\n",
    "beta = 0.5\n",
    "t_0 = 0\n",
    "\n",
    "# Die Funktion k(t) definieren\n",
    "k = FE(t, k_zul + (k_0-k_zul)*exp(-beta*(t-t_0)),name='k')\n",
    "k.equation()"
   ]
  },
  {
   "cell_type": "code",
   "execution_count": 3,
   "metadata": {},
   "outputs": [
    {
     "data": {
      "text/html": [
       "<div>\n",
       "<style scoped>\n",
       "    .dataframe tbody tr th:only-of-type {\n",
       "        vertical-align: middle;\n",
       "    }\n",
       "\n",
       "    .dataframe tbody tr th {\n",
       "        vertical-align: top;\n",
       "    }\n",
       "\n",
       "    .dataframe thead th {\n",
       "        text-align: right;\n",
       "    }\n",
       "</style>\n",
       "<table border=\"1\" class=\"dataframe\">\n",
       "  <thead>\n",
       "    <tr style=\"text-align: right;\">\n",
       "      <th></th>\n",
       "      <th>0</th>\n",
       "      <th>1</th>\n",
       "      <th>2</th>\n",
       "      <th>3</th>\n",
       "      <th>4</th>\n",
       "    </tr>\n",
       "  </thead>\n",
       "  <tbody>\n",
       "    <tr>\n",
       "      <th>t</th>\n",
       "      <td>0.0</td>\n",
       "      <td>0.204082</td>\n",
       "      <td>0.408163</td>\n",
       "      <td>0.612245</td>\n",
       "      <td>0.816327</td>\n",
       "    </tr>\n",
       "    <tr>\n",
       "      <th>k</th>\n",
       "      <td>400.0</td>\n",
       "      <td>458.204384</td>\n",
       "      <td>510.762517</td>\n",
       "      <td>558.222127</td>\n",
       "      <td>601.077808</td>\n",
       "    </tr>\n",
       "  </tbody>\n",
       "</table>\n",
       "</div>"
      ],
      "text/plain": [
       "       0           1           2           3           4\n",
       "t    0.0    0.204082    0.408163    0.612245    0.816327\n",
       "k  400.0  458.204384  510.762517  558.222127  601.077808"
      ]
     },
     "execution_count": 3,
     "metadata": {},
     "output_type": "execute_result"
    }
   ],
   "source": [
    "lt = np.linspace(0,10) # 10 Stunden\n",
    "\n",
    "df = pd.DataFrame(\n",
    "    {\n",
    "        't': lt,\n",
    "        'k': 1e6*k.lambdified(lt), # k in ppM\n",
    "    }\n",
    ")\n",
    "\n",
    "df.head().T"
   ]
  },
  {
   "cell_type": "code",
   "execution_count": 4,
   "metadata": {},
   "outputs": [
    {
     "data": {
      "image/png": "[encoded data removed]",
      "text/plain": [
       "<Figure size 432x288 with 1 Axes>"
      ]
     },
     "metadata": {
      "image/png": {
       "height": 265,
       "width": 403
      },
      "needs_background": "light"
     },
     "output_type": "display_data"
    }
   ],
   "source": [
    "ax = df.plot(x='t',y='k',label='$k=k(t)$')\n",
    "ax.axhline(1e6*k_zul,c='r')\n",
    "\n",
    "ax.set(\n",
    "    xlim=(0,10),xlabel='Zeit $t$ in Stunden',\n",
    "    ylim=(0,1200),ylabel='Konzentration $k$ in ppM'\n",
    ")\n",
    "\n",
    "delta_t = 2 # 1/beta = 2\n",
    "for i in range(0,10,delta_t):\n",
    "    ax.plot([i,i+delta_t,i+delta_t],[1e6*v for v in [k(i),k_zul,k(i+delta_t)]],c='r',marker='o')\n",
    "\n",
    "ax.grid();\n",
    "plt.savefig('Nb_5_fig_1.pdf',bbox_inches='tight')"
   ]
  }
 ],
 "metadata": {
  "kernelspec": {
   "display_name": "Python 3",
   "language": "python",
   "name": "python3"
  },
  "language_info": {
   "codemirror_mode": {
    "name": "ipython",
    "version": 3
   },
   "file_extension": ".py",
   "mimetype": "text/x-python",
   "name": "python",
   "nbconvert_exporter": "python",
   "pygments_lexer": "ipython3",
   "version": "3.7.7"
  }
 },
 "nbformat": 4,
 "nbformat_minor": 4
}
