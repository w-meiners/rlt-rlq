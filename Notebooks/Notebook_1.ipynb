{
 "cells": [
  {
   "cell_type": "markdown",
   "metadata": {},
   "source": [
    "# Raumluftqualität 1.0"
   ]
  },
  {
   "cell_type": "markdown",
   "metadata": {},
   "source": [
    "In diesem Notebook werden die Zusammenhänge zwischen der CO_2-Produktion (zum Beispiel durch Personen) in einem Raum und der erforderlichen Belüftung dieses Raumes zusammengestellt. Einen Überblick über die Einschätzung der gesundheitlichen Wirkung von CO_2 finden Sie zum Beispiel in dem Dokument\n",
    "\n",
    "https://www.umweltbundesamt.de/sites/default/files/medien/pdfs/kohlendioxid_2008.pdf\n",
    "\n",
    "das Sie durch Anklicken des Links in einem neuen Tab öffnen können."
   ]
  },
  {
   "cell_type": "markdown",
   "metadata": {},
   "source": [
    "### Aufgabe 1\n",
    "\n",
    "Laden Sie sich dieses Dokument des Umweltbundesamtes herunter und informieren Sie sich über die Raumluftqualitäten IDA 1 bis IDA 4. Welche CO_2-Konzentration ist demnach für eine mittlere Raumluftqualität mindestens erforderlich?"
   ]
  },
  {
   "cell_type": "markdown",
   "metadata": {},
   "source": [
    "### Aufgabe 2\n",
    "\n",
    "Informieren Sie sich darüber, in welchem Bereich der CO_2-Konzentration die Raumluft als hygienisch auffällig angesehen wird. Geben Sie auch an, wann die Raumluft hygienisch inakzeptabel ist. Welche Maßnahmen sind möglich, um diesen Zustand zu ändern?"
   ]
  },
  {
   "cell_type": "markdown",
   "metadata": {},
   "source": [
    "## CO_2-Abgabe des Menschen\n",
    "\n",
    "Durch Verbrennungsprozesse gibt der Mensch Kohlendioxid ab. Die Menge des abgegebenen Kohlendioxids hängt dabei von seiner Belastung ab. Anhaltspunkte für die Auslegung von Lüftungsanlagen finden Sie zum Beispiel in Ihrem Tabellenbuch (Ihle-Baader-Golle, Tabellenbuch Sanitär-Heizung-Klima/Lüftung) unter dem Stichpunkt Wärme und Wasserdampfabgabe einer Person (nach VDI 2078).\n",
    "\n",
    "Wird dieses CO_2 nicht durch Belüftung des Raumes abgeführt, so reichert es ich im Raum an und führt zu schlechter Raumluftqualität. Dabei hängt der erforderliche Belüftungsvolumenstrom von dem produzierten CO_2-Volumenstrom im Raum ab. Dieser kann mit den Angaben des Tabellenbuchs abgeschätzt werden."
   ]
  },
  {
   "cell_type": "markdown",
   "metadata": {},
   "source": [
    "Ein Maß für die Raumluftqualität ist die Konzentration $k$ des Kohlendioxids in der Raumluft. Diese Konzentration berechnet sich aus dem Verhältnis des Schadstoffvolumens zum Raumvolumen:\n",
    "\n",
    "$$\n",
    "  k = \\dfrac{\\dot V_\\mathrm{sch}}{V_\\mathrm{ra}}\n",
    "$$\n",
    "\n",
    "liegen. Bei höheren Luftwechselzahlen ist von Zugerscheinungen auszugehen. Dann sind Überlegungen notwendig, um entweder die Luftzufuhr zu verkleinern oder eine Luftverteilung sicherzustellen, die Zugerscheinungen ausschließt.\n",
    "\n",
    "In Wohngebäuden, die nicht klimatisiert sind, ist die Luftwechselzahl meist deutlich kleiner. Denn Ziel der Belüftung ist in diesem Fall\n",
    "- Sicherstellen des Feuchteschutzes, sowie\n",
    "- Aufrechterhalten einer guten Raumluftqualität."
   ]
  }
 ],
 "metadata": {
  "kernelspec": {
   "display_name": "Python 3",
   "language": "python",
   "name": "python3"
  },
  "language_info": {
   "codemirror_mode": {
    "name": "ipython",
    "version": 3
   },
   "file_extension": ".py",
   "mimetype": "text/x-python",
   "name": "python",
   "nbconvert_exporter": "python",
   "pygments_lexer": "ipython3",
   "version": "3.7.7"
  }
 },
 "nbformat": 4,
 "nbformat_minor": 4
}
