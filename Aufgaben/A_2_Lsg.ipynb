{
 "cells": [
  {
   "cell_type": "markdown",
   "metadata": {},
   "source": [
    "# Aufgabe 2"
   ]
  },
  {
   "cell_type": "markdown",
   "metadata": {},
   "source": [
    "a) CO_2-Menge"
   ]
  },
  {
   "cell_type": "code",
   "execution_count": 1,
   "metadata": {},
   "outputs": [
    {
     "data": {
      "text/plain": [
       "0.138"
      ]
     },
     "execution_count": 1,
     "metadata": {},
     "output_type": "execute_result"
    }
   ],
   "source": [
    "n = 6 # Personen\n",
    "dV_co2_person = 23e-3 # 23 l/h in m**3/h\n",
    "dV_co2 = n*dV_co2_person\n",
    "dV_co2"
   ]
  },
  {
   "cell_type": "markdown",
   "metadata": {},
   "source": [
    "Es werden 138 Liter CO_2 je Stunden produziert."
   ]
  },
  {
   "cell_type": "code",
   "execution_count": 2,
   "metadata": {},
   "outputs": [
    {
     "data": {
      "text/plain": [
       "1.6560000000000001"
      ]
     },
     "execution_count": 2,
     "metadata": {},
     "output_type": "execute_result"
    }
   ],
   "source": [
    "Delta_t = 12 # Stunden\n",
    "V_co2 = dV_co2*Delta_t # m**3\n",
    "V_co2"
   ]
  },
  {
   "cell_type": "markdown",
   "metadata": {},
   "source": [
    "In 12 Stunden ergibt das 1.656 Kubikmeter CO_2."
   ]
  },
  {
   "cell_type": "markdown",
   "metadata": {},
   "source": [
    "b) Erforderlicher Außenluftvolumenstrom"
   ]
  },
  {
   "cell_type": "markdown",
   "metadata": {},
   "source": [
    "$$\n",
    "  \\dot V_{au} = \\dfrac{\\dot V_{co2}}{k_{zul}-k_{au}}\n",
    "$$"
   ]
  },
  {
   "cell_type": "code",
   "execution_count": 3,
   "metadata": {},
   "outputs": [
    {
     "data": {
      "text/plain": [
       "230.0"
      ]
     },
     "execution_count": 3,
     "metadata": {},
     "output_type": "execute_result"
    }
   ],
   "source": [
    "k_zul = 1000e-6 # 1000 ppM\n",
    "k_au = 400e-6 # 400 ppM\n",
    "\n",
    "dV_au = dV_co2/(k_zul-k_au)\n",
    "dV_au # m**3/h"
   ]
  },
  {
   "cell_type": "markdown",
   "metadata": {},
   "source": [
    "Um das CO_2 abzutransportieren, werden 230 Kubikmeter pro Stunde Außenluft benötigt."
   ]
  },
  {
   "cell_type": "markdown",
   "metadata": {},
   "source": [
    "c) Luftwechselzahl des Raumes"
   ]
  },
  {
   "cell_type": "code",
   "execution_count": 4,
   "metadata": {},
   "outputs": [
    {
     "data": {
      "text/plain": [
       "375.0"
      ]
     },
     "execution_count": 4,
     "metadata": {},
     "output_type": "execute_result"
    }
   ],
   "source": [
    "V_ra = 150*2.5 # m**3\n",
    "V_ra"
   ]
  },
  {
   "cell_type": "code",
   "execution_count": 5,
   "metadata": {},
   "outputs": [
    {
     "data": {
      "text/plain": [
       "0.6133333333333333"
      ]
     },
     "execution_count": 5,
     "metadata": {},
     "output_type": "execute_result"
    }
   ],
   "source": [
    "beta = dV_au/V_ra\n",
    "beta"
   ]
  },
  {
   "cell_type": "markdown",
   "metadata": {},
   "source": [
    "Der zugehörige Luftwechsel ist $0.613\\,\\mathrm{h}^{-1}$."
   ]
  },
  {
   "cell_type": "markdown",
   "metadata": {},
   "source": [
    "d) Elternschlaftzimmer\n",
    "\n",
    "In der Nacht wird von einem reduzierten CO_2-Ausstoß der Eltern ausgegangen, da diese schlafen."
   ]
  },
  {
   "cell_type": "code",
   "execution_count": 7,
   "metadata": {},
   "outputs": [
    {
     "data": {
      "text/plain": [
       "0.24"
      ]
     },
     "execution_count": 7,
     "metadata": {},
     "output_type": "execute_result"
    }
   ],
   "source": [
    "V_eltern = 15*2.5 # m**3\n",
    "\n",
    "dV_co2_eltern = 2*15e-3 # Reduzierter CO_2-Ausstoß der Eltern\n",
    "\n",
    "V_co2_eltern = 8*dV_co2_eltern\n",
    "V_co2_eltern # m**3"
   ]
  },
  {
   "cell_type": "markdown",
   "metadata": {},
   "source": [
    "Die Eltern produzieren 240 Liter CO_2 in der Nacht."
   ]
  },
  {
   "cell_type": "code",
   "execution_count": 8,
   "metadata": {},
   "outputs": [
    {
     "data": {
      "text/plain": [
       "6800.0"
      ]
     },
     "execution_count": 8,
     "metadata": {},
     "output_type": "execute_result"
    }
   ],
   "source": [
    "k_eltern_ungelueftet = k_au + V_co2_eltern/V_eltern\n",
    "k_eltern_ungelueftet*1e6 # in ppM"
   ]
  },
  {
   "cell_type": "markdown",
   "metadata": {},
   "source": [
    "Das führt auf den völlig inakzeptablen Wert von 6800 ppM CO_2 im Elternschlafzimmer."
   ]
  },
  {
   "cell_type": "markdown",
   "metadata": {},
   "source": [
    "e) Erforderlicher Zuluftvolumenstrom im Elternschlafzimmer"
   ]
  },
  {
   "cell_type": "code",
   "execution_count": 9,
   "metadata": {},
   "outputs": [
    {
     "data": {
      "text/plain": [
       "49.99999999999999"
      ]
     },
     "execution_count": 9,
     "metadata": {},
     "output_type": "execute_result"
    }
   ],
   "source": [
    "dV_au_eltern = dV_co2_eltern/(k_zul - k_au)\n",
    "dV_au_eltern"
   ]
  },
  {
   "cell_type": "markdown",
   "metadata": {},
   "source": [
    "Um den Raum zu belüften, werden 50 Kubikmeter Außenluft pro Stunde benötigt."
   ]
  }
 ],
 "metadata": {
  "kernelspec": {
   "display_name": "Python 3",
   "language": "python",
   "name": "python3"
  },
  "language_info": {
   "codemirror_mode": {
    "name": "ipython",
    "version": 3
   },
   "file_extension": ".py",
   "mimetype": "text/x-python",
   "name": "python",
   "nbconvert_exporter": "python",
   "pygments_lexer": "ipython3",
   "version": "3.7.6"
  }
 },
 "nbformat": 4,
 "nbformat_minor": 4
}
